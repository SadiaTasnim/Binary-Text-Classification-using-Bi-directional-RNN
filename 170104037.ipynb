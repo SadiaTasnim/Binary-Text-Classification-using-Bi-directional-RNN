{
 "cells": [
  {
   "cell_type": "markdown",
   "metadata": {
    "id": "c8mJCxCuHkxz"
   },
   "source": [
    "# Assignment 03 (  Text classification )\n",
    "\n",
    "---\n",
    "\n",
    "Bidirectional RNN with Dataset 02\n",
    "\n",
    "---\n",
    "\n",
    "\n",
    "CSE 4238 - Soft Computing Lab\n",
    "\n",
    "---\n",
    "\n",
    "\n",
    "ID : 170104037\n",
    "\n",
    "---\n",
    "\n",
    "\n",
    "Sec : A\n",
    "\n",
    "---\n",
    "\n",
    "\n",
    "Date : 02/09/2021"
   ]
  },
  {
   "cell_type": "code",
   "execution_count": 1,
   "metadata": {
    "id": "4Ul0tu8z8v9z"
   },
   "outputs": [],
   "source": [
    "# from google.colab import drive\n",
    "# drive.mount('/content/gdrive')"
   ]
  },
  {
   "cell_type": "markdown",
   "metadata": {
    "id": "sKQgHa_1-8Ph"
   },
   "source": [
    "# Importing necessary libraries"
   ]
  },
  {
   "cell_type": "code",
   "execution_count": 2,
   "metadata": {
    "id": "pDSxQgWCRRLo"
   },
   "outputs": [],
   "source": [
    "from pathlib import Path\n",
    "from google_drive_downloader import GoogleDriveDownloader as gdd\n",
    "import pandas as pd\n",
    "import numpy as np\n",
    "import re\n",
    "import tensorflow as tf\n",
    "from keras.preprocessing.text import Tokenizer\n",
    "from keras.models import Sequential\n",
    "from keras.preprocessing.sequence import pad_sequences\n",
    "import nltk\n",
    "from keras import layers\n",
    "from keras.utils.vis_utils import plot_model\n",
    "import matplotlib.pyplot as plt\n",
    "import seaborn as sns\n",
    "from sklearn.metrics import precision_score\n",
    "from sklearn.metrics import recall_score\n",
    "from sklearn.metrics import f1_score\n",
    "from sklearn.metrics import confusion_matrix"
   ]
  },
  {
   "cell_type": "markdown",
   "metadata": {
    "id": "gSS-9WN7--fB"
   },
   "source": [
    "\n",
    "---\n",
    "\n",
    "# Dataset\n",
    "\n",
    "Now , 037 % 3 = 1 which is Dataset 02\n",
    "\n",
    "---\n",
    "\n",
    "# Model\n",
    "\n",
    "(37+2)%5 = 4  which is Bidirectional RNN\n",
    "\n",
    "---"
   ]
  },
  {
   "cell_type": "code",
   "execution_count": 3,
   "metadata": {
    "colab": {
     "base_uri": "https://localhost:8080/"
    },
    "id": "sMzXpTSF832l",
    "outputId": "4d823f9b-3fa6-4518-8433-61a886ed0b37"
   },
   "outputs": [
    {
     "name": "stdout",
     "output_type": "stream",
     "text": [
      "Downloading 1L7gRzRsyWzQ6jtRg86q81aVfKbREYv2A into /content/gdrive/MyDrive/Colab Notebooks/soft comp/Assignment 3/Dataset/Dataset2.csv... Done.\n"
     ]
    }
   ],
   "source": [
    "DATA_PATH = '/content/gdrive/MyDrive/Colab Notebooks/soft comp/Assignment 3/Dataset/Dataset2.csv'\n",
    "if not Path(DATA_PATH).is_file():\n",
    "    gdd.download_file_from_google_drive(\n",
    "        file_id='1L7gRzRsyWzQ6jtRg86q81aVfKbREYv2A',\n",
    "        dest_path=DATA_PATH,\n",
    "    )"
   ]
  },
  {
   "cell_type": "markdown",
   "metadata": {
    "id": "1ri2VXYrAaW5"
   },
   "source": [
    "# Dataset\n",
    "\n",
    "*   8000 data with polarity 0\n",
    "*   2314 data with polarity 2314\n",
    "*   Randomizing dataset\n",
    "\n"
   ]
  },
  {
   "cell_type": "code",
   "execution_count": 11,
   "metadata": {
    "colab": {
     "base_uri": "https://localhost:8080/",
     "height": 467
    },
    "id": "_1LIhQf_83-j",
    "outputId": "7bd640a7-ff13-458c-b0fd-9b6b50edc065"
   },
   "outputs": [
    {
     "name": "stdout",
     "output_type": "stream",
     "text": [
      "0    8000\n",
      "1    2314\n",
      "Name: polarity, dtype: int64\n"
     ]
    },
    {
     "data": {
      "text/html": [
       "<div>\n",
       "<style scoped>\n",
       "    .dataframe tbody tr th:only-of-type {\n",
       "        vertical-align: middle;\n",
       "    }\n",
       "\n",
       "    .dataframe tbody tr th {\n",
       "        vertical-align: top;\n",
       "    }\n",
       "\n",
       "    .dataframe thead th {\n",
       "        text-align: right;\n",
       "    }\n",
       "</style>\n",
       "<table border=\"1\" class=\"dataframe\">\n",
       "  <thead>\n",
       "    <tr style=\"text-align: right;\">\n",
       "      <th></th>\n",
       "      <th>text</th>\n",
       "      <th>polarity</th>\n",
       "    </tr>\n",
       "  </thead>\n",
       "  <tbody>\n",
       "    <tr>\n",
       "      <th>4885</th>\n",
       "      <td>Q: Do you get a prize? A: I don't know. I'm a ...</td>\n",
       "      <td>0</td>\n",
       "    </tr>\n",
       "    <tr>\n",
       "      <th>4645</th>\n",
       "      <td>@JonathanRKnight the summer will never end! yo...</td>\n",
       "      <td>0</td>\n",
       "    </tr>\n",
       "    <tr>\n",
       "      <th>10102</th>\n",
       "      <td>OF COURSE HE IS SUFFERING FROM DEPRESSION OF L...</td>\n",
       "      <td>1</td>\n",
       "    </tr>\n",
       "    <tr>\n",
       "      <th>1238</th>\n",
       "      <td>cooking for Mothers Day</td>\n",
       "      <td>0</td>\n",
       "    </tr>\n",
       "    <tr>\n",
       "      <th>4372</th>\n",
       "      <td>Darion could be a sweet dream or a beautiful n...</td>\n",
       "      <td>0</td>\n",
       "    </tr>\n",
       "    <tr>\n",
       "      <th>...</th>\n",
       "      <td>...</td>\n",
       "      <td>...</td>\n",
       "    </tr>\n",
       "    <tr>\n",
       "      <th>4118</th>\n",
       "      <td>Ugh...Time to get ready for work!  Actually I ...</td>\n",
       "      <td>0</td>\n",
       "    </tr>\n",
       "    <tr>\n",
       "      <th>988</th>\n",
       "      <td>In 24hrs time I will be at uni waiting to star...</td>\n",
       "      <td>0</td>\n",
       "    </tr>\n",
       "    <tr>\n",
       "      <th>9036</th>\n",
       "      <td>im gnna go to sleep i have depression i love m...</td>\n",
       "      <td>1</td>\n",
       "    </tr>\n",
       "    <tr>\n",
       "      <th>4459</th>\n",
       "      <td>Love you guys! I'm going to work in a few. Kn...</td>\n",
       "      <td>0</td>\n",
       "    </tr>\n",
       "    <tr>\n",
       "      <th>1935</th>\n",
       "      <td>ok lets save the date for my passion party... ...</td>\n",
       "      <td>0</td>\n",
       "    </tr>\n",
       "  </tbody>\n",
       "</table>\n",
       "<p>10314 rows × 2 columns</p>\n",
       "</div>"
      ],
      "text/plain": [
       "                                                    text  polarity\n",
       "4885   Q: Do you get a prize? A: I don't know. I'm a ...         0\n",
       "4645   @JonathanRKnight the summer will never end! yo...         0\n",
       "10102  OF COURSE HE IS SUFFERING FROM DEPRESSION OF L...         1\n",
       "1238                            cooking for Mothers Day          0\n",
       "4372   Darion could be a sweet dream or a beautiful n...         0\n",
       "...                                                  ...       ...\n",
       "4118   Ugh...Time to get ready for work!  Actually I ...         0\n",
       "988    In 24hrs time I will be at uni waiting to star...         0\n",
       "9036   im gnna go to sleep i have depression i love m...         1\n",
       "4459    Love you guys! I'm going to work in a few. Kn...         0\n",
       "1935   ok lets save the date for my passion party... ...         0\n",
       "\n",
       "[10314 rows x 2 columns]"
      ]
     },
     "execution_count": 11,
     "metadata": {},
     "output_type": "execute_result"
    }
   ],
   "source": [
    "dataset = pd.read_csv(DATA_PATH, engine = 'python')\n",
    "\n",
    "dataset = dataset.sample(frac=1, random_state = 37)\n",
    "print(dataset['polarity'].value_counts())\n",
    "dataset"
   ]
  },
  {
   "cell_type": "markdown",
   "metadata": {
    "id": "059zygrLDOl8"
   },
   "source": [
    "# Dividing dataset into training,validating and testing\n",
    "\n",
    "\n",
    "*   60%, 20%, 20% split for training, validation and test sets.\n",
    "*   Separating data and label\n",
    "*   Total 6188 data for training, 2063 data for validation and 2063 data for testing\n"
   ]
  },
  {
   "cell_type": "code",
   "execution_count": 12,
   "metadata": {
    "colab": {
     "base_uri": "https://localhost:8080/"
    },
    "id": "Y9WjA117mHGw",
    "outputId": "65c1a4fc-b54d-41b6-b63b-640d0e09e7d8"
   },
   "outputs": [
    {
     "name": "stdout",
     "output_type": "stream",
     "text": [
      "(6188, 2)\n",
      "0    4803\n",
      "1    1385\n",
      "Name: polarity, dtype: int64\n",
      "(2063, 2)\n",
      "0    1588\n",
      "1     475\n",
      "Name: polarity, dtype: int64\n",
      "(2063, 2)\n",
      "0    1609\n",
      "1     454\n",
      "Name: polarity, dtype: int64\n"
     ]
    }
   ],
   "source": [
    "#Produces a 60%, 20%, 20% split for training, validation and test sets.\n",
    "train_data, test_data, validation_data = np.split(dataset.sample(frac=1), [int(.6*len(dataset)), int(.8*len(dataset))])\n",
    "\n",
    "print(train_data.shape)\n",
    "print(train_data['polarity'].value_counts())\n",
    "print(test_data.shape)\n",
    "print(test_data['polarity'].value_counts())\n",
    "print(validation_data.shape)\n",
    "print(validation_data['polarity'].value_counts())\n",
    "\n",
    "#separating data and label\n",
    "train_x = np.array(train_data.iloc[:, 0])\n",
    "train_y = np.array(train_data.iloc[:, 1])\n",
    "\n",
    "test_x = np.array(test_data.iloc[:, 0])\n",
    "test_y = np.array(test_data.iloc[:, 1])\n",
    "\n",
    "validation_x = np.array(validation_data.iloc[:, 0])\n",
    "validation_y = np.array(validation_data.iloc[:, 1])"
   ]
  },
  {
   "cell_type": "markdown",
   "metadata": {
    "id": "VwZurO3pECzq"
   },
   "source": [
    "# Preprocessing Dataset\n",
    "\n",
    "\n",
    "*   Removing mentions (@username), URLs (http links) ,hashtags. \n",
    "\n"
   ]
  },
  {
   "cell_type": "code",
   "execution_count": 13,
   "metadata": {
    "id": "9JTEZggMCtDH"
   },
   "outputs": [],
   "source": [
    "\n",
    "def processing(X,type='porter'):\n",
    "    stemmer= nltk.stem.PorterStemmer()\n",
    "    X_proc = []\n",
    "    for sentence in X:\n",
    "       # Remove mentions (@username), all URLs, all hashtags.  (\\S+ matches with everything that is not a whitespace)\n",
    "        sentence = re.sub(\"@\\S+|http\\S+|#\\S+\", \"\", str(sentence))\n",
    "        X_proc.append(sentence)\n",
    "    return X_proc \n",
    "\n",
    "train_x = processing(train_x)\n"
   ]
  },
  {
   "cell_type": "markdown",
   "metadata": {
    "id": "q89gDz4PLAjD"
   },
   "source": [
    "# Hyperparameters"
   ]
  },
  {
   "cell_type": "code",
   "execution_count": 14,
   "metadata": {
    "id": "-2cb4H6zXnkw"
   },
   "outputs": [],
   "source": [
    "hparams = {\n",
    "    \"max_num_words\": 60000,\n",
    "    \"max_sequence_length\": 70,\n",
    "    \"epoch\": 10\n",
    "}"
   ]
  },
  {
   "cell_type": "markdown",
   "metadata": {
    "id": "tP6krtqcLFda"
   },
   "source": [
    "# Tokenization\n",
    "\n",
    "\n",
    "\n",
    "*   Tokenizing \n",
    "*   Removing puncuation marks\n",
    "\n"
   ]
  },
  {
   "cell_type": "code",
   "execution_count": 15,
   "metadata": {
    "id": "3IaykBGKK4Dv"
   },
   "outputs": [],
   "source": [
    "\n",
    "tokenizer = tf.keras.preprocessing.text.Tokenizer(num_words=hparams[\"max_num_words\"],filters = '!\"#$%&()*+,-./:;<=>?@[\\\\]^_`{|}~\\t\\n')\n",
    "\n",
    "tokenizer.fit_on_texts(train_x)\n",
    "\n",
    "tokenizer.word_index['<unk>'] = 0\n",
    "tokenizer.index_word[0] = '<unk>'\n",
    "\n",
    "def prep_text(texts, tokenizer, max_sequence_length):\n",
    "    \n",
    "    # Turns text into into padded sequences.\n",
    "    text_sequences = tokenizer.texts_to_sequences(texts)\n",
    "    return tf.keras.preprocessing.sequence.pad_sequences(text_sequences, maxlen=max_sequence_length)\n",
    "\n",
    "train_data = prep_text(train_x, tokenizer, hparams[\"max_sequence_length\"])\n",
    "test_data = prep_text(test_x, tokenizer, hparams[\"max_sequence_length\"])\n",
    "validation_data = prep_text(validation_x, tokenizer, hparams[\"max_sequence_length\"])\n",
    "\n",
    "# print(train_data)\n",
    "# print(train_data.shape)\n",
    "# print(test_data)\n",
    "# print(test_data.shape)\n",
    "# print(validation_data)\n",
    "# print(validation_data.shape)"
   ]
  },
  {
   "cell_type": "markdown",
   "metadata": {
    "id": "HKf87eRBL8Y6"
   },
   "source": [
    "# Model Creation (Bidirectional RNN)\n",
    "\n",
    "\n",
    "*   Activation function : Sigmoid\n",
    "*   Loss function : Binary crossentropy\n",
    "*   Optimizer : Adam\n",
    "\n"
   ]
  },
  {
   "cell_type": "code",
   "execution_count": 16,
   "metadata": {
    "colab": {
     "base_uri": "https://localhost:8080/",
     "height": 1000
    },
    "id": "j7FZT7o1J0yO",
    "outputId": "e65711f0-f430-49de-a935-af0e02ce6b22"
   },
   "outputs": [
    {
     "name": "stdout",
     "output_type": "stream",
     "text": [
      "Model: \"sequential_1\"\n",
      "_________________________________________________________________\n",
      "Layer (type)                 Output Shape              Param #   \n",
      "=================================================================\n",
      "embedding_1 (Embedding)      (None, None, 128)         1473024   \n",
      "_________________________________________________________________\n",
      "bidirectional_4 (Bidirection (None, None, 128)         24704     \n",
      "_________________________________________________________________\n",
      "bidirectional_5 (Bidirection (None, None, 512)         197120    \n",
      "_________________________________________________________________\n",
      "bidirectional_6 (Bidirection (None, None, 256)         164096    \n",
      "_________________________________________________________________\n",
      "bidirectional_7 (Bidirection (None, 16)                4240      \n",
      "_________________________________________________________________\n",
      "dense_1 (Dense)              (None, 1)                 17        \n",
      "=================================================================\n",
      "Total params: 1,863,201\n",
      "Trainable params: 1,863,201\n",
      "Non-trainable params: 0\n",
      "_________________________________________________________________\n"
     ]
    },
    {
     "data": {
      "image/png": "[encoded data removed]",
      "text/plain": [
       "<IPython.core.display.Image object>"
      ]
     },
     "execution_count": 16,
     "metadata": {},
     "output_type": "execute_result"
    }
   ],
   "source": [
    "model = tf.keras.Sequential()\n",
    "model.add(layers.Embedding(len(tokenizer.word_index)+1, 128))\n",
    "model.add(layers.Bidirectional(layers.SimpleRNN(64, return_sequences = True, dropout = 0.3)))\n",
    "model.add(layers.Bidirectional(layers.SimpleRNN(256, return_sequences = True, dropout = 0.3)))\n",
    "model.add(layers.Bidirectional(layers.SimpleRNN(128, return_sequences = True, dropout = 0.3)))\n",
    "model.add(layers.Bidirectional(layers.SimpleRNN(8, dropout = 0.3)))\n",
    "model.add(layers.Dense(1, activation = 'sigmoid'))\n",
    "model.compile(loss = 'binary_crossentropy', optimizer='adam', metrics = ['accuracy'])\n",
    "\n",
    "model.summary()\n",
    "plot_model(model, to_file = 'Model.png', show_shapes = True, show_layer_names = True)"
   ]
  },
  {
   "cell_type": "markdown",
   "metadata": {
    "id": "cUvS1r-oMX0T"
   },
   "source": [
    "# Training and validating the model with training and validating data\n",
    "\n",
    "*  Training Accuracy : 99.11%\n",
    "*  Training Loss : 0.04\n",
    "*  Validation Accuracy : 98.84%\n",
    "*  Validation Loss : 0.05"
   ]
  },
  {
   "cell_type": "code",
   "execution_count": 17,
   "metadata": {
    "colab": {
     "base_uri": "https://localhost:8080/"
    },
    "id": "--_GXNmDRn5g",
    "outputId": "d53ab6c9-55e6-473f-9c5c-c52285bffd2e"
   },
   "outputs": [
    {
     "name": "stdout",
     "output_type": "stream",
     "text": [
      "Epoch 1/10\n",
      "194/194 [==============================] - 85s 403ms/step - loss: 0.2954 - accuracy: 0.8937 - val_loss: 0.0452 - val_accuracy: 0.9932\n",
      "Epoch 2/10\n",
      "194/194 [==============================] - 77s 399ms/step - loss: 0.0404 - accuracy: 0.9931 - val_loss: 0.0432 - val_accuracy: 0.9918\n",
      "Epoch 3/10\n",
      "194/194 [==============================] - 77s 398ms/step - loss: 0.0267 - accuracy: 0.9955 - val_loss: 0.0405 - val_accuracy: 0.9908\n",
      "Epoch 4/10\n",
      "194/194 [==============================] - 78s 403ms/step - loss: 0.0205 - accuracy: 0.9964 - val_loss: 0.0277 - val_accuracy: 0.9947\n",
      "Epoch 5/10\n",
      "194/194 [==============================] - 78s 404ms/step - loss: 0.0112 - accuracy: 0.9985 - val_loss: 0.0357 - val_accuracy: 0.9922\n",
      "Epoch 6/10\n",
      "194/194 [==============================] - 77s 399ms/step - loss: 0.0159 - accuracy: 0.9968 - val_loss: 0.0460 - val_accuracy: 0.9869\n",
      "Epoch 7/10\n",
      "194/194 [==============================] - 77s 399ms/step - loss: 0.0143 - accuracy: 0.9976 - val_loss: 0.0255 - val_accuracy: 0.9956\n",
      "Epoch 8/10\n",
      "194/194 [==============================] - 77s 400ms/step - loss: 0.0070 - accuracy: 0.9989 - val_loss: 0.0258 - val_accuracy: 0.9956\n",
      "Epoch 9/10\n",
      "194/194 [==============================] - 77s 398ms/step - loss: 0.0065 - accuracy: 0.9990 - val_loss: 0.0288 - val_accuracy: 0.9956\n",
      "Epoch 10/10\n",
      "194/194 [==============================] - 78s 402ms/step - loss: 0.0425 - accuracy: 0.9911 - val_loss: 0.0575 - val_accuracy: 0.9884\n"
     ]
    }
   ],
   "source": [
    "history = model.fit(train_data, train_y, epochs = hparams[\"epoch\"], validation_data = (validation_data, validation_y), verbose=1)"
   ]
  },
  {
   "cell_type": "markdown",
   "metadata": {
    "id": "4EcboFjONM5x"
   },
   "source": [
    "# Plotting the accuracy and loss of training and validation "
   ]
  },
  {
   "cell_type": "code",
   "execution_count": 18,
   "metadata": {
    "colab": {
     "base_uri": "https://localhost:8080/",
     "height": 541
    },
    "id": "9H6NM1dyVDWW",
    "outputId": "ac941680-0cb1-46c2-8200-696196917c88"
   },
   "outputs": [
    {
     "data": {
      "image/png": "[encoded data removed]",
      "text/plain": [
       "<Figure size 432x288 with 1 Axes>"
      ]
     },
     "metadata": {
      "needs_background": "light"
     },
     "output_type": "display_data"
    },
    {
     "data": {
      "image/png": "[encoded data removed]",
      "text/plain": [
       "<Figure size 432x288 with 1 Axes>"
      ]
     },
     "metadata": {
      "needs_background": "light"
     },
     "output_type": "display_data"
    }
   ],
   "source": [
    "#Accuracy\n",
    "plt.plot(history.history['accuracy'])\n",
    "plt.plot(history.history['val_'+ 'accuracy'])\n",
    "plt.xlabel(\"Epochs\")\n",
    "plt.ylabel('Accuracy')\n",
    "plt.legend(['Accuracy', 'Validation Accuracy'],loc='best')\n",
    "plt.show()\n",
    "#Loss\n",
    "plt.plot(history.history['loss'])\n",
    "plt.plot(history.history['val_'+ 'loss'])\n",
    "plt.xlabel(\"Epochs\")\n",
    "plt.ylabel('Loss')\n",
    "plt.legend(['Loss', 'Validation Loss'],loc='best')\n",
    "plt.show()"
   ]
  },
  {
   "cell_type": "markdown",
   "metadata": {
    "id": "-RVhzIauQosB"
   },
   "source": [
    "# Performance analysis\n",
    "\n",
    "\n",
    "*   Calulating accuracy ,precision ,recall and F1-score for all the Train, Validation and Test data\n",
    "*   Heatmap generation\n",
    "\n"
   ]
  },
  {
   "cell_type": "markdown",
   "metadata": {
    "id": "V91l8yo1hhnT"
   },
   "source": [
    "# Performance analysis for training data\n",
    "\n",
    "\n",
    "*   Accuracy 99.82\n",
    "*   Precision 99.71\n",
    "*   Recall 99.49\n",
    "*   F1-score 99.60\n",
    "*   Loss 0.16\n",
    "\n"
   ]
  },
  {
   "cell_type": "code",
   "execution_count": 19,
   "metadata": {
    "colab": {
     "base_uri": "https://localhost:8080/",
     "height": 382
    },
    "id": "nbFgrF5DeJZo",
    "outputId": "6f36a422-3307-4416-d2e0-b8aa45305252"
   },
   "outputs": [
    {
     "name": "stdout",
     "output_type": "stream",
     "text": [
      "194/194 [==============================] - 15s 75ms/step - loss: 0.0165 - accuracy: 0.9982\n",
      "Train Loss: 0.016491886228322983\n",
      "Train Accuracy: 0.9982223510742188\n",
      "Train Precision: 0.9971056439942113\n",
      "Train Recall: 0.9949458483754513\n",
      "Train F1-score: 0.9960245753523672\n"
     ]
    },
    {
     "data": {
      "text/plain": [
       "<matplotlib.axes._subplots.AxesSubplot at 0x7f63f19aad90>"
      ]
     },
     "execution_count": 19,
     "metadata": {},
     "output_type": "execute_result"
    },
    {
     "data": {
      "image/png": "[encoded data removed]",
      "text/plain": [
       "<Figure size 432x288 with 2 Axes>"
      ]
     },
     "metadata": {
      "needs_background": "light"
     },
     "output_type": "display_data"
    }
   ],
   "source": [
    "y_pred = model.predict(train_data)\n",
    "\n",
    "y_pred = np.where(y_pred > 0.5, 1, 0)\n",
    "y_pred = np.reshape(y_pred, (y_pred.shape[0]))\n",
    "\n",
    "loss, accuracy = model.evaluate(train_data, train_y, verbose = 1)\n",
    "print('Train Loss:', loss)\n",
    "print('Train Accuracy:', accuracy)\n",
    "print('Train Precision:', precision_score(train_y, y_pred))\n",
    "print('Train Recall:', recall_score(train_y, y_pred))\n",
    "print('Train F1-score:', f1_score(train_y, y_pred))\n",
    "\n",
    "sns.heatmap(confusion_matrix(train_y, y_pred), annot = True, fmt = 'g')"
   ]
  },
  {
   "cell_type": "markdown",
   "metadata": {
    "id": "fgT16MqXRsHg"
   },
   "source": [
    "# Performance analysis for validation data\n",
    "\n",
    "\n",
    "*   Accuracy 98.83\n",
    "*   Precision 97.35\n",
    "*   Recall 97.35\n",
    "*   F1-score 97.35\n",
    "*   Loss 0.05"
   ]
  },
  {
   "cell_type": "code",
   "execution_count": 20,
   "metadata": {
    "colab": {
     "base_uri": "https://localhost:8080/",
     "height": 382
    },
    "id": "eNHp0_i6cns2",
    "outputId": "94706120-8a98-43d3-cc7c-f08a368e43d3"
   },
   "outputs": [
    {
     "name": "stdout",
     "output_type": "stream",
     "text": [
      "65/65 [==============================] - 5s 76ms/step - loss: 0.0575 - accuracy: 0.9884\n",
      "Validation Loss: 0.057504281401634216\n",
      "Validation Accuracy: 0.9883664846420288\n",
      "Validation Precision: 0.973568281938326\n",
      "Validation Recall: 0.973568281938326\n",
      "Validation F1-score: 0.973568281938326\n"
     ]
    },
    {
     "data": {
      "text/plain": [
       "<matplotlib.axes._subplots.AxesSubplot at 0x7f63f023ba10>"
      ]
     },
     "execution_count": 20,
     "metadata": {},
     "output_type": "execute_result"
    },
    {
     "data": {
      "image/png": "[encoded data removed]",
      "text/plain": [
       "<Figure size 432x288 with 2 Axes>"
      ]
     },
     "metadata": {
      "needs_background": "light"
     },
     "output_type": "display_data"
    }
   ],
   "source": [
    "y_pred = model.predict(validation_data)\n",
    "\n",
    "y_pred = np.where(y_pred > 0.5, 1, 0)\n",
    "y_pred = np.reshape(y_pred, (y_pred.shape[0]))\n",
    "\n",
    "loss, accuracy = model.evaluate(validation_data, validation_y, verbose = 1)\n",
    "print('Validation Loss:', loss)\n",
    "print('Validation Accuracy:', accuracy)\n",
    "print('Validation Precision:', precision_score(validation_y, y_pred))\n",
    "print('Validation Recall:', recall_score(validation_y, y_pred))\n",
    "print('Validation F1-score:', f1_score(validation_y, y_pred))\n",
    "\n",
    "sns.heatmap(confusion_matrix(validation_y, y_pred), annot = True, fmt = 'g')"
   ]
  },
  {
   "cell_type": "markdown",
   "metadata": {
    "id": "8JnrZblXRwFQ"
   },
   "source": [
    "# Performance analysis for test data\n",
    "\n",
    "\n",
    "*   Accuracy 98.59\n",
    "*   Precision 97.24\n",
    "*   Recall 96.63\n",
    "*   F1-score 96.93\n",
    "*   Loss 0.07"
   ]
  },
  {
   "cell_type": "code",
   "execution_count": 21,
   "metadata": {
    "colab": {
     "base_uri": "https://localhost:8080/",
     "height": 382
    },
    "id": "66s42p5Zh2av",
    "outputId": "91717aed-54db-45f5-d2db-c53227549991"
   },
   "outputs": [
    {
     "name": "stdout",
     "output_type": "stream",
     "text": [
      "65/65 [==============================] - 5s 76ms/step - loss: 0.0701 - accuracy: 0.9859\n",
      "Test Loss: 0.07013625651597977\n",
      "Test Accuracy: 0.9859427809715271\n",
      "Test Precision: 0.972457627118644\n",
      "Test Recall: 0.9663157894736842\n",
      "Test F1-score: 0.969376979936642\n"
     ]
    },
    {
     "data": {
      "text/plain": [
       "<matplotlib.axes._subplots.AxesSubplot at 0x7f63f016ef90>"
      ]
     },
     "execution_count": 21,
     "metadata": {},
     "output_type": "execute_result"
    },
    {
     "data": {
      "image/png": "[encoded data removed]",
      "text/plain": [
       "<Figure size 432x288 with 2 Axes>"
      ]
     },
     "metadata": {
      "needs_background": "light"
     },
     "output_type": "display_data"
    }
   ],
   "source": [
    "y_pred = model.predict(test_data)\n",
    "\n",
    "y_pred = np.where(y_pred > 0.5, 1, 0)\n",
    "y_pred = np.reshape(y_pred, (y_pred.shape[0]))\n",
    "\n",
    "loss, accuracy = model.evaluate(test_data, test_y, verbose = 1)\n",
    "print('Test Loss:', loss)\n",
    "print('Test Accuracy:', accuracy)\n",
    "print('Test Precision:', precision_score(test_y, y_pred))\n",
    "print('Test Recall:', recall_score(test_y, y_pred))\n",
    "print('Test F1-score:', f1_score(test_y, y_pred))\n",
    "\n",
    "sns.heatmap(confusion_matrix(test_y, y_pred), annot = True, fmt = 'g')"
   ]
  },
  {
   "cell_type": "code",
   "execution_count": 21,
   "metadata": {
    "id": "ZEHw4WoWWKqP"
   },
   "outputs": [],
   "source": []
  }
 ],
 "metadata": {
  "colab": {
   "collapsed_sections": [],
   "name": "170104037.ipynb",
   "provenance": []
  },
  "kernelspec": {
   "display_name": "Python 3",
   "language": "python",
   "name": "python3"
  },
  "language_info": {
   "codemirror_mode": {
    "name": "ipython",
    "version": 3
   },
   "file_extension": ".py",
   "mimetype": "text/x-python",
   "name": "python",
   "nbconvert_exporter": "python",
   "pygments_lexer": "ipython3",
   "version": "3.8.5"
  }
 },
 "nbformat": 4,
 "nbformat_minor": 1
}
